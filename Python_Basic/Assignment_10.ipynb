{
 "cells": [
  {
   "cell_type": "markdown",
   "id": "efcfd4fc",
   "metadata": {},
   "source": [
    "#### 1. How do you distinguish between shutil.copy() and shutil.copytree()?"
   ]
  },
  {
   "cell_type": "code",
   "execution_count": 1,
   "id": "a7772355",
   "metadata": {
    "collapsed": true
   },
   "outputs": [
    {
     "ename": "SyntaxError",
     "evalue": "invalid syntax (Temp/ipykernel_12192/2979076660.py, line 1)",
     "output_type": "error",
     "traceback": [
      "\u001b[1;36m  File \u001b[1;32m\"C:\\Users\\DELL\\AppData\\Local\\Temp/ipykernel_12192/2979076660.py\"\u001b[1;36m, line \u001b[1;32m1\u001b[0m\n\u001b[1;33m    When we want to copy a content from one file/folder/src to another file/folder/destination we use shutil.copy() method.\u001b[0m\n\u001b[1;37m         ^\u001b[0m\n\u001b[1;31mSyntaxError\u001b[0m\u001b[1;31m:\u001b[0m invalid syntax\n"
     ]
    }
   ],
   "source": [
    "When we want to copy a content from one file/folder/src to another file/folder/destination we use shutil.copy() method.\n",
    "shutil.copy() method will accepts two arguments (generally) destination and source.\n",
    "\n",
    "When we want to copy whole folder not a content from a folder we use shutil.copytree() method this method will also accepts\n",
    "two arguments source and destnation where we want to copy our whole folder with content."
   ]
  },
  {
   "cell_type": "markdown",
   "id": "94f4e857",
   "metadata": {},
   "source": [
    "#### 2. What function is used to rename files?? "
   ]
  },
  {
   "cell_type": "code",
   "execution_count": 2,
   "id": "390a14cd",
   "metadata": {
    "collapsed": true
   },
   "outputs": [
    {
     "ename": "SyntaxError",
     "evalue": "invalid syntax (Temp/ipykernel_12192/4153322006.py, line 1)",
     "output_type": "error",
     "traceback": [
      "\u001b[1;36m  File \u001b[1;32m\"C:\\Users\\DELL\\AppData\\Local\\Temp/ipykernel_12192/4153322006.py\"\u001b[1;36m, line \u001b[1;32m1\u001b[0m\n\u001b[1;33m    To rename existing file we use os.rename() method. This method will accepts two arguments src and destination where\u001b[0m\n\u001b[1;37m       ^\u001b[0m\n\u001b[1;31mSyntaxError\u001b[0m\u001b[1;31m:\u001b[0m invalid syntax\n"
     ]
    }
   ],
   "source": [
    "To rename existing file we use os.rename() method. This method will accepts two arguments src and destination where\n",
    "src is the old name and destination will new name of file."
   ]
  },
  {
   "cell_type": "markdown",
   "id": "c359d796",
   "metadata": {},
   "source": [
    "#### 3. What is the difference between the delete functions in the send2trash and shutil modules?"
   ]
  },
  {
   "cell_type": "code",
   "execution_count": null,
   "id": "905b259e",
   "metadata": {},
   "outputs": [],
   "source": [
    "In shutil module we have shutil.rmtree() method with the help of this method we can delete file, but once we delete file with\n",
    "this method file will deleted permenantly we cannot access that file again.\n",
    "\n",
    "But with the help of send2trash module we have method send2trash.send2trash() which will delete file, but that file will move \n",
    "to trash instead of deleting file permenantly, so if by mistake or accidentaly delete any file still we can recover file from \n",
    "trash."
   ]
  },
  {
   "cell_type": "markdown",
   "id": "14ac53ee",
   "metadata": {},
   "source": [
    "#### 4.ZipFile objects have a close() method just like File objects’ close() method. What ZipFile method is equivalent to File objects’ open() method?"
   ]
  },
  {
   "cell_type": "code",
   "execution_count": null,
   "id": "f5432914",
   "metadata": {},
   "outputs": [],
   "source": [
    "Like to read file object we use file.open() method to read/ write a file. likewise to read Zip file , ZipFile module\n",
    "we have method ZipFile.ZipFile('filename', mode='r') to read a zipfile."
   ]
  },
  {
   "cell_type": "markdown",
   "id": "5e4195d2",
   "metadata": {},
   "source": [
    "#### 5. Create a programme that searches a folder tree for files with a certain file extension (such as .pdf or .jpg). Copy these files from whatever location they are in to a new folder"
   ]
  },
  {
   "cell_type": "code",
   "execution_count": 2,
   "id": "180bdb11",
   "metadata": {},
   "outputs": [],
   "source": [
    "import os\n",
    "import shutil\n",
    "\n",
    "def search_copy(source,destination,extensions):\n",
    "    source = os.path.abspath(source)\n",
    "    destination = os.path.abspath(destination)\n",
    "    for foldername, subfolder, filenames in os.walk(source):\n",
    "        print(f'Folder Name ➞ {foldername}',end='\\n\\n')\n",
    "        print(f'Sub Folders ➞ {subfolder}',end='\\n\\n')\n",
    "        print(f'Files ➞ {filenames}',end='\\n\\n')\n",
    "        for filename in filenames:\n",
    "            fileName,extension = os.path.splitext(filename)\n",
    "            if extension in extensions:\n",
    "                targetFile = foldername+os.path.sep+fileName+extension\n",
    "                shutil.copy(targetFile, destination)\n",
    "        print(f'Files copied successfully from {source} to {destination}')\n",
    "    \n",
    "extensions = ['.pdf','.jpg','.ipynb']\n",
    "source = 'Source Folder'\n",
    "destination = 'Destination Folder'\n",
    "search_copy(source, destination, extensions)"
   ]
  },
  {
   "cell_type": "code",
   "execution_count": null,
   "id": "5275f02f",
   "metadata": {},
   "outputs": [],
   "source": []
  }
 ],
 "metadata": {
  "kernelspec": {
   "display_name": "Python 3 (ipykernel)",
   "language": "python",
   "name": "python3"
  },
  "language_info": {
   "codemirror_mode": {
    "name": "ipython",
    "version": 3
   },
   "file_extension": ".py",
   "mimetype": "text/x-python",
   "name": "python",
   "nbconvert_exporter": "python",
   "pygments_lexer": "ipython3",
   "version": "3.8.2"
  }
 },
 "nbformat": 4,
 "nbformat_minor": 5
}
