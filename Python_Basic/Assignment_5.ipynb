{
 "cells": [
  {
   "cell_type": "raw",
   "id": "2444779c",
   "metadata": {},
   "source": [
    "1. What does an empty dictionary's code look like?"
   ]
  },
  {
   "cell_type": "code",
   "execution_count": 1,
   "id": "9ce5bced",
   "metadata": {},
   "outputs": [
    {
     "name": "stdout",
     "output_type": "stream",
     "text": [
      "<class 'dict'>\n"
     ]
    }
   ],
   "source": [
    "d = {}\n",
    "print(type(d))"
   ]
  },
  {
   "cell_type": "raw",
   "id": "06ee862a",
   "metadata": {},
   "source": [
    "2. What is the value of a dictionary value with the key 'foo' and the value 42?"
   ]
  },
  {
   "cell_type": "code",
   "execution_count": 5,
   "id": "2dfe7d1d",
   "metadata": {},
   "outputs": [
    {
     "name": "stdout",
     "output_type": "stream",
     "text": [
      "42\n"
     ]
    }
   ],
   "source": [
    "d = {\"foo\" : 42}\n",
    "print(d[\"foo\"])"
   ]
  },
  {
   "cell_type": "raw",
   "id": "450e7de9",
   "metadata": {},
   "source": [
    "3. What is the most significant distinction between a dictionary and a list?"
   ]
  },
  {
   "cell_type": "raw",
   "id": "1916a2ea",
   "metadata": {},
   "source": [
    "Most significant difference is that, Dictionary stores it's values with key value pair, where list stores directly value.\n",
    "Example:\n",
    "       Dictionary --> student = {1:\"john\", 2:\"james\", 3: \"jane\"}\n",
    "       List       --> fruits = [\"Mango\", \"Banana\", \"Cherry\", \"Strawberry\"]"
   ]
  },
  {
   "cell_type": "raw",
   "id": "679b9c94",
   "metadata": {},
   "source": [
    "4. What happens if you try to access spam[\"foo\"] if spam is {\"bar\": 100}?"
   ]
  },
  {
   "cell_type": "code",
   "execution_count": 6,
   "id": "5308ec28",
   "metadata": {},
   "outputs": [
    {
     "ename": "KeyError",
     "evalue": "'foo'",
     "output_type": "error",
     "traceback": [
      "\u001b[1;31m---------------------------------------------------------------------------\u001b[0m",
      "\u001b[1;31mKeyError\u001b[0m                                  Traceback (most recent call last)",
      "\u001b[1;32m~\\AppData\\Local\\Temp/ipykernel_2980/3824518496.py\u001b[0m in \u001b[0;36m<module>\u001b[1;34m\u001b[0m\n\u001b[0;32m      1\u001b[0m \u001b[0mspam\u001b[0m \u001b[1;33m=\u001b[0m \u001b[1;33m{\u001b[0m\u001b[1;34m\"bar\"\u001b[0m \u001b[1;33m:\u001b[0m \u001b[1;36m100\u001b[0m\u001b[1;33m}\u001b[0m\u001b[1;33m\u001b[0m\u001b[1;33m\u001b[0m\u001b[0m\n\u001b[1;32m----> 2\u001b[1;33m \u001b[0mprint\u001b[0m\u001b[1;33m(\u001b[0m\u001b[0mspam\u001b[0m\u001b[1;33m[\u001b[0m\u001b[1;34m\"foo\"\u001b[0m\u001b[1;33m]\u001b[0m\u001b[1;33m)\u001b[0m\u001b[1;33m\u001b[0m\u001b[1;33m\u001b[0m\u001b[0m\n\u001b[0m",
      "\u001b[1;31mKeyError\u001b[0m: 'foo'"
     ]
    }
   ],
   "source": [
    "spam = {\"bar\" : 100}\n",
    "print(spam[\"foo\"]) # This will return error as we are trying to access the element with key (foo) which is not present in dict"
   ]
  },
  {
   "cell_type": "raw",
   "id": "67bf5597",
   "metadata": {},
   "source": [
    "5. If a dictionary is stored in spam, what is the difference between the expressions \"cat\" in spam and\n",
    "\"cat\" in spam.keys()?"
   ]
  },
  {
   "cell_type": "code",
   "execution_count": 7,
   "id": "dcac28ca",
   "metadata": {},
   "outputs": [
    {
     "name": "stdout",
     "output_type": "stream",
     "text": [
      "dict_keys(['Cat'])\n"
     ]
    }
   ],
   "source": [
    "spam = {\"Cat\" : \"Cat\"}\n",
    "print(spam.keys())\n",
    "# Here we have same for the key as well as for the value, so when we try to access the value it will return cat"
   ]
  },
  {
   "cell_type": "raw",
   "id": "ca9e9375",
   "metadata": {},
   "source": [
    "6. If a dictionary is stored in spam, what is the difference between the expressions \"cat\" in spam and\n",
    "\"cat\" in spam.values()?"
   ]
  },
  {
   "cell_type": "code",
   "execution_count": 8,
   "id": "40b425db",
   "metadata": {},
   "outputs": [
    {
     "name": "stdout",
     "output_type": "stream",
     "text": [
      "dict_values(['cat'])\n"
     ]
    }
   ],
   "source": [
    "spam = {\"cat\" : \"cat\"}\n",
    "print(spam.values())\n",
    "# Here we are trying to return the values present in dictionary"
   ]
  },
  {
   "cell_type": "raw",
   "id": "47c35e53",
   "metadata": {},
   "source": [
    "7. What is a shortcut for the following code?\n",
    "if \"color\" not in spam:\n",
    "spam[\"color\"] = \"black\""
   ]
  },
  {
   "cell_type": "code",
   "execution_count": 1,
   "id": "fd2eb95c",
   "metadata": {},
   "outputs": [
    {
     "data": {
      "text/plain": [
       "'black'"
      ]
     },
     "execution_count": 1,
     "metadata": {},
     "output_type": "execute_result"
    }
   ],
   "source": [
    "spam = {}\n",
    "spam.setdefault(\"color\",\"black\")"
   ]
  },
  {
   "cell_type": "raw",
   "id": "f15f3aa6",
   "metadata": {},
   "source": [
    "8. How do you pretty print dictionary values using which module and function?"
   ]
  },
  {
   "cell_type": "raw",
   "id": "096f3415",
   "metadata": {},
   "source": [
    "we use pprint() module to use pretty print dictionary"
   ]
  },
  {
   "cell_type": "code",
   "execution_count": 5,
   "id": "9e0fd68a",
   "metadata": {},
   "outputs": [
    {
     "name": "stdout",
     "output_type": "stream",
     "text": [
      "Using print \n",
      "{'Citric': ['Orange', 'Lemon', 'Strawberry'], 'Sweet': ['Banana', 'Apple', 'Chiku']}\n",
      "\n",
      "using pretty print function\n",
      "\n",
      "{'Citric': ['Orange', 'Lemon', 'Strawberry'],\n",
      " 'Sweet': ['Banana', 'Apple', 'Chiku']}\n"
     ]
    }
   ],
   "source": [
    "#Example\n",
    "fruit = {\"Citric\":[\"Orange\",\"Lemon\",\"Strawberry\"],\"Sweet\":[\"Banana\",\"Apple\",\"Chiku\"]}\n",
    "print(\"Using print \")\n",
    "print(fruit)\n",
    "\n",
    "print()\n",
    "\n",
    "import pprint\n",
    "print(\"using pretty print function\")\n",
    "print()\n",
    "pprint.pprint(fruit)\n"
   ]
  },
  {
   "cell_type": "code",
   "execution_count": null,
   "id": "eb603b92",
   "metadata": {},
   "outputs": [],
   "source": []
  }
 ],
 "metadata": {
  "kernelspec": {
   "display_name": "Python 3 (ipykernel)",
   "language": "python",
   "name": "python3"
  },
  "language_info": {
   "codemirror_mode": {
    "name": "ipython",
    "version": 3
   },
   "file_extension": ".py",
   "mimetype": "text/x-python",
   "name": "python",
   "nbconvert_exporter": "python",
   "pygments_lexer": "ipython3",
   "version": "3.8.2"
  }
 },
 "nbformat": 4,
 "nbformat_minor": 5
}
