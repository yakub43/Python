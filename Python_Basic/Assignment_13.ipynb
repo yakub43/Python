{
 "cells": [
  {
   "cell_type": "markdown",
   "id": "c499c56e",
   "metadata": {},
   "source": [
    "### 1. What advantages do Excel spreadsheets have over CSV spreadsheets?"
   ]
  },
  {
   "cell_type": "markdown",
   "id": "036ddcc8",
   "metadata": {},
   "source": [
    "<b>Ans - </b><br>\n",
    "<ul>\n",
    "    <li>Excel (XLS and XLSX) file formats are better for storing and analysing complex data.\n",
    "</li>\n",
    "    <li>An Excel not only stores data but can also do operations on the data using macros, formulas etc</li>\n",
    "    <li>CSV files are plain-text files, Does not contain formatting, formulas, macros, etc. It is also known as flat files</li>\n",
    "</ul>"
   ]
  },
  {
   "cell_type": "markdown",
   "id": "ab87d83a",
   "metadata": {},
   "source": [
    "### 2.What do you pass to csv.reader() and csv.writer() to create reader and writer objects?"
   ]
  },
  {
   "cell_type": "code",
   "execution_count": null,
   "id": "0967df7d",
   "metadata": {},
   "outputs": [],
   "source": [
    "#for reader object\n",
    "import csv\n",
    "with open('read.csv','r') as file:\n",
    "    csv_file = csv.reader(file,delimiter=',')\n",
    "    for e in csv_file:\n",
    "        print(e)\n",
    "#for writer object\n",
    "import csv\n",
    "with open('text.csv','w') as file:\n",
    "    csv_file = csv.reader(file,delimiter=',')\n",
    "    for e in csv_file:\n",
    "        print(e)"
   ]
  },
  {
   "cell_type": "markdown",
   "id": "03380a11",
   "metadata": {},
   "source": [
    "### 3. What modes do File objects for reader and writer objects need to be opened in?"
   ]
  },
  {
   "cell_type": "markdown",
   "id": "e2ac29a7",
   "metadata": {},
   "source": [
    "<b>Ans - </b>\n",
    "<ul>\n",
    "    <li>For csv.reader(iterable_file_object), the file objects needed to be opened in read mode mode='r</li>\n",
    "    <li>for csv.writer(iterable_file_object) the file objects needed to be opened in write mode mode='w'</li>\n",
    "</ul>"
   ]
  },
  {
   "cell_type": "markdown",
   "id": "24e133d0",
   "metadata": {},
   "source": [
    "### 4. What method takes a list argument and writes it to a CSV file?"
   ]
  },
  {
   "cell_type": "markdown",
   "id": "6fe20893",
   "metadata": {},
   "source": [
    "<b>Ans - </b>csv.writer class provides two methods for writing to CSV. They are writerow() and writerows(). writerow() method writes a single row at a time. Whereas writerows() method is used to write multiple rows at a time."
   ]
  },
  {
   "cell_type": "markdown",
   "id": "47657415",
   "metadata": {},
   "source": [
    "### 5. What do the keyword arguments delimiter and line terminator do?"
   ]
  },
  {
   "cell_type": "markdown",
   "id": "22c1110e",
   "metadata": {},
   "source": [
    "<b>Ans - </b>\n",
    "Lets take the example of a csv file:\n",
    "<br>\n",
    "name, city <br>\n",
    "james, surat<br>\n",
    "john, pune<br>\n",
    "Here ',' is Delimiter. We can use any Character as per our needs if required. Similarly Line Terminator comes at end of line by default it is newline and can be changed accourding to Requireme"
   ]
  },
  {
   "cell_type": "markdown",
   "id": "5065eee8",
   "metadata": {},
   "source": [
    "### 6. What function takes a string of JSON data and returns a Python data structure?"
   ]
  },
  {
   "cell_type": "markdown",
   "id": "5cfcb7ba",
   "metadata": {},
   "source": [
    "<b>Ans - </b> loads() method takes a string of JSON data and returns a Python data structure."
   ]
  },
  {
   "cell_type": "markdown",
   "id": "fb0fc2e1",
   "metadata": {},
   "source": [
    "### 7. What function takes a Python data structure and returns a string of JSON data?"
   ]
  },
  {
   "cell_type": "markdown",
   "id": "22f900b9",
   "metadata": {},
   "source": [
    "<b>Ans - </b> dumps() method takes a python data structure and returns a string of JSON data"
   ]
  },
  {
   "cell_type": "code",
   "execution_count": null,
   "id": "df76a051",
   "metadata": {},
   "outputs": [],
   "source": []
  }
 ],
 "metadata": {
  "kernelspec": {
   "display_name": "Python 3 (ipykernel)",
   "language": "python",
   "name": "python3"
  },
  "language_info": {
   "codemirror_mode": {
    "name": "ipython",
    "version": 3
   },
   "file_extension": ".py",
   "mimetype": "text/x-python",
   "name": "python",
   "nbconvert_exporter": "python",
   "pygments_lexer": "ipython3",
   "version": "3.8.2"
  }
 },
 "nbformat": 4,
 "nbformat_minor": 5
}
