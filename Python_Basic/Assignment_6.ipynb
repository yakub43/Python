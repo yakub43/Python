{
 "cells": [
  {
   "cell_type": "raw",
   "id": "b9742fcf",
   "metadata": {},
   "source": [
    "1. What are escape characters, and how do you use them?"
   ]
  },
  {
   "cell_type": "code",
   "execution_count": 1,
   "id": "b3e88efe",
   "metadata": {},
   "outputs": [
    {
     "name": "stdout",
     "output_type": "stream",
     "text": [
      "my name is \"james\", from CA\n"
     ]
    }
   ],
   "source": [
    "\"\"\"\n",
    "Escape characters is useful when we want to use element or syambol that are illegal or wrong as per the rule of python\n",
    "\n",
    "Let's see one Exapmle:\n",
    "     Here we want to use the string which is surrounded by the double quotes and we want also want to name surrounded by\n",
    "     double quotes\n",
    "\"\"\"\n",
    "# intro = \"my name is \"james\", from CA\" --> this will raise error\n",
    "# Instead we can use escape character to overcome this issue\n",
    "\n",
    "intro = \"my name is \\\"james\\\", from CA\"\n",
    "print(intro)"
   ]
  },
  {
   "cell_type": "raw",
   "id": "7d4578b3",
   "metadata": {},
   "source": [
    "2. What do the escape characters n and t stand for?"
   ]
  },
  {
   "cell_type": "raw",
   "id": "c98f6c66",
   "metadata": {},
   "source": [
    "when we use n as escape character, it will start from  new line\n",
    "t is use for the tab equivalent space."
   ]
  },
  {
   "cell_type": "raw",
   "id": "78e5fe7a",
   "metadata": {},
   "source": [
    "3. What is the way to include backslash characters in a string?"
   ]
  },
  {
   "cell_type": "code",
   "execution_count": 7,
   "id": "476370e5",
   "metadata": {},
   "outputs": [
    {
     "name": "stdout",
     "output_type": "stream",
     "text": [
      "\\hello\\\n"
     ]
    }
   ],
   "source": [
    "# we can use this was to inclues backslash\n",
    "greet = \"\\\\hello\\\\\"\n",
    "print(greet)"
   ]
  },
  {
   "cell_type": "raw",
   "id": "5ff8b62b",
   "metadata": {},
   "source": [
    "4. The string \"Howl's Moving Castle\" is a correct value. Why isn't the single quote character in the\n",
    "word Howl's not escaped a problem?"
   ]
  },
  {
   "cell_type": "raw",
   "id": "606d4ac1",
   "metadata": {},
   "source": [
    "Because here our string is started with double quote, so python know that this is the starting of string and the ending of string also ended with double."
   ]
  },
  {
   "cell_type": "raw",
   "id": "9b41e79b",
   "metadata": {},
   "source": [
    "5. How do you write a string of newlines if you don't want to use the n character?"
   ]
  },
  {
   "cell_type": "code",
   "execution_count": 3,
   "id": "9d06b90c",
   "metadata": {},
   "outputs": [
    {
     "name": "stdout",
     "output_type": "stream",
     "text": [
      "This is string\n",
      "Which don't use n character to make a new line\n"
     ]
    }
   ],
   "source": [
    "# We can use multiline string to use new without using \\n charachter\n",
    "# Example\n",
    "intro = \"\"\"This is string\n",
    "Which don't use n character to make a new line\"\"\"\n",
    "print(intro)"
   ]
  },
  {
   "cell_type": "raw",
   "id": "f0bd583c",
   "metadata": {},
   "source": [
    "6.What are the values of the given expressions ?\n",
    "'Hello, world!'[1]\n",
    "'Hello, world!'[0:5]\n",
    "'Hello, world!'[:5]\n",
    "'Hello, world!'[3:]"
   ]
  },
  {
   "cell_type": "code",
   "execution_count": 8,
   "id": "71f735f9",
   "metadata": {},
   "outputs": [
    {
     "name": "stdout",
     "output_type": "stream",
     "text": [
      "1.'Hello, world!'[1] -->  e\n",
      "2. 'Hello, world!'[0:5] -->  Hello\n",
      "3. 'Hello, world!'[:5] -->  Hello\n",
      "4. 'Hello, world!'[3:] -->  lo, world!\n"
     ]
    }
   ],
   "source": [
    "print(\"1.'Hello, world!'[1] --> \",'Hello, world!'[1]) # This will return first character from string i.e. 'e'\n",
    "\n",
    "print(\"2. 'Hello, world!'[0:5] --> \",'Hello, world!'[0:5]) # This will return 0 to 4 the charachter from the string i.e. Hello,. Here we need to pay attention the \n",
    "                    # The starting index is 0 and the last index is 5 but 5th index would not include in the output it is excludes\n",
    "    \n",
    "print(\"3. 'Hello, world!'[:5] --> \",'Hello, world!'[:5]) # This will also same output as above , here we did not given the starting index, but by default it will be 0\n",
    "\n",
    "print(\"4. 'Hello, world!'[3:] --> \",'Hello, world!'[3:]) # This will print the character from the index starting from 3 to all the way to the end of string"
   ]
  },
  {
   "cell_type": "raw",
   "id": "b0a79741",
   "metadata": {},
   "source": [
    "7.What are the values of the following expressions ?\n",
    "'Hello'.upper()\n",
    "'Hello'.upper().isupper()\n",
    "'Hello'.upper().lower()"
   ]
  },
  {
   "cell_type": "code",
   "execution_count": 10,
   "id": "f80a1f0c",
   "metadata": {},
   "outputs": [
    {
     "name": "stdout",
     "output_type": "stream",
     "text": [
      "1. 'Hello'.upper() -->  HELLO\n",
      "2. 'Hello'.upper().isupper() -->  True\n",
      "3. 'Hello'.upper().lower() --> hello\n"
     ]
    }
   ],
   "source": [
    "print(\"1. 'Hello'.upper() --> \", 'Hello'.upper()) # This string function will do all string character to uppercase\n",
    "\n",
    "print(\"2. 'Hello'.upper().isupper() --> \",'Hello'.upper().isupper()) # this string function will return true or false based on \n",
    "                                                                     # condition will be true or false\n",
    "    \n",
    "print(\"3. 'Hello'.upper().lower() -->\", 'Hello'.upper().lower()) #This string function will first it will convert all cases to\n",
    "                                                                 # upper case , after that it will convert to small case"
   ]
  },
  {
   "cell_type": "raw",
   "id": "a63a9e7d",
   "metadata": {},
   "source": [
    "8.What are the values of the following expressions ?\n",
    "'Remember, remember, the fifith of July.'.split()\n",
    "'-'.join('There can only one'.split())"
   ]
  },
  {
   "cell_type": "code",
   "execution_count": 11,
   "id": "d45d65cf",
   "metadata": {},
   "outputs": [
    {
     "data": {
      "text/plain": [
       "['Remember,', 'remember,', 'the', 'fifith', 'of', 'July.']"
      ]
     },
     "execution_count": 11,
     "metadata": {},
     "output_type": "execute_result"
    }
   ],
   "source": [
    "# The split function will split the string every blank space and return a list\n",
    "'Remember, remember, the fifith of July.'.split()"
   ]
  },
  {
   "cell_type": "code",
   "execution_count": 12,
   "id": "7361c733",
   "metadata": {},
   "outputs": [
    {
     "data": {
      "text/plain": [
       "'There-can-only-one'"
      ]
     },
     "execution_count": 12,
     "metadata": {},
     "output_type": "execute_result"
    }
   ],
   "source": [
    "# The join function will join all the list elements by '-' as split function will return list\n",
    "'-'.join('There can only one'.split())"
   ]
  },
  {
   "cell_type": "raw",
   "id": "f2eb3b4e",
   "metadata": {},
   "source": [
    "9.What are the methods for right-justifying, left-justifying and centering a string ?"
   ]
  },
  {
   "cell_type": "raw",
   "id": "d66b0a07",
   "metadata": {},
   "source": [
    "The rjust() method will right align the string, using a specified character as the fill character."
   ]
  },
  {
   "cell_type": "code",
   "execution_count": 5,
   "id": "5b39fecb",
   "metadata": {},
   "outputs": [
    {
     "name": "stdout",
     "output_type": "stream",
     "text": [
      "*****James\n"
     ]
    }
   ],
   "source": [
    "#Example Syntax --> string.rjust(length, character)\n",
    "# The rjust() method will right align the string, using a specified character as the fill character.\n",
    "name = \"James\"\n",
    "print(name.rjust(10,\"*\"))"
   ]
  },
  {
   "cell_type": "code",
   "execution_count": 7,
   "id": "cb590ea4",
   "metadata": {},
   "outputs": [
    {
     "name": "stdout",
     "output_type": "stream",
     "text": [
      "James*****\n"
     ]
    }
   ],
   "source": [
    "#Example Syntax --> string.ljust(length, character)\n",
    "# The ljust() method will left align the string, using a specified character as the fill character.\n",
    "name = \"James\"\n",
    "print(name.ljust(10,\"*\"))"
   ]
  },
  {
   "cell_type": "code",
   "execution_count": 8,
   "id": "171afccd",
   "metadata": {},
   "outputs": [
    {
     "name": "stdout",
     "output_type": "stream",
     "text": [
      "**james***\n"
     ]
    }
   ],
   "source": [
    "#Example Syntax --> string.center(length, character)\n",
    "# The center() method will center align the string, using a specified character as the fill character.\n",
    "name = \"james\"\n",
    "print(name.center(10,\"*\"))"
   ]
  },
  {
   "cell_type": "code",
   "execution_count": null,
   "id": "a0c75181",
   "metadata": {},
   "outputs": [],
   "source": []
  }
 ],
 "metadata": {
  "kernelspec": {
   "display_name": "Python 3 (ipykernel)",
   "language": "python",
   "name": "python3"
  },
  "language_info": {
   "codemirror_mode": {
    "name": "ipython",
    "version": 3
   },
   "file_extension": ".py",
   "mimetype": "text/x-python",
   "name": "python",
   "nbconvert_exporter": "python",
   "pygments_lexer": "ipython3",
   "version": "3.8.2"
  }
 },
 "nbformat": 4,
 "nbformat_minor": 5
}
