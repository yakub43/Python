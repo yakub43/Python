{
 "cells": [
  {
   "cell_type": "markdown",
   "id": "42429616",
   "metadata": {},
   "source": [
    "<h3>1. In what modes should the PdfFileReader() and PdfFileWriter() File objects will be opened?</h3>"
   ]
  },
  {
   "cell_type": "markdown",
   "id": "f86d4670",
   "metadata": {},
   "source": [
    "<b>Ans-</b>For PdfFileReader() file objects will be opened in rb (read binary mode), Whereas for PdfFileWriter() file objects WILL be opened in wb (write binary mode)."
   ]
  },
  {
   "cell_type": "markdown",
   "id": "192174cc",
   "metadata": {},
   "source": [
    "<h3>2. From a PdfFileReader object, how do you get a Page object for page 5?</h3>"
   ]
  },
  {
   "cell_type": "markdown",
   "id": "b501d426",
   "metadata": {},
   "source": [
    "<b>Ans - </b>PdfFileReader class provides a method called getPage(page_no) to get a page object."
   ]
  },
  {
   "cell_type": "markdown",
   "id": "b4e3a237",
   "metadata": {},
   "source": [
    "### 3. What PdfFileReader variable stores the number of pages in the PDF document?"
   ]
  },
  {
   "cell_type": "markdown",
   "id": "46a0b6bc",
   "metadata": {},
   "source": [
    "<b>Ans - </b>getNumPages() method of PdfFileReader class stores the no pages in a PDF document"
   ]
  },
  {
   "cell_type": "markdown",
   "id": "443ceb4a",
   "metadata": {},
   "source": [
    "### 4. If a PdfFileReader object's PDF is encrypted with the password swordfish, what must you do before you can obtain Page objects from it?"
   ]
  },
  {
   "cell_type": "markdown",
   "id": "8c444f27",
   "metadata": {},
   "source": [
    "<b>Ans</b> If a PdfFileReader object's PDF is encrypted with the password swordfish and we are not aware of it, we will first read the Pdf using the PdfFileReader Class. PdfFileReader class provides a attribute called isEncrypted to check whether a pdf is encrypted or not. The method returns true if a pdf is encrypted and vice versa.<br>\n",
    "If pdf is encrypted we will use the decrypt() method provided by PdfFileReader class and then we will try to read the contents/pages of the pdf, else PyPDF2 will raise the following error PyPDF2.utils.PdfReadError: file has not been decrypted"
   ]
  },
  {
   "cell_type": "markdown",
   "id": "3caa953c",
   "metadata": {},
   "source": [
    "### 5. What methods do you use to rotate a page?"
   ]
  },
  {
   "cell_type": "markdown",
   "id": "aca63b88",
   "metadata": {},
   "source": [
    "<b>Ans - </b>PyPDF provide 2 methods:\n",
    "<br>\n",
    "1. rotateClockWise() -> For Clockwise rotation\n",
    "<br>\n",
    "2. rotateCounterClockWise() -> For anti Clockwise rotation"
   ]
  },
  {
   "cell_type": "markdown",
   "id": "45868cf2",
   "metadata": {},
   "source": [
    "### 6. What is the difference between a Run object and a Paragraph object?"
   ]
  },
  {
   "cell_type": "markdown",
   "id": "810c2942",
   "metadata": {},
   "source": [
    "<b>Ans - </b>The structure of a document is represented by three different data types in python-Docx. At the highest level, a Document object represents the entire document. The Document object contains a list of Paragraph objects for the paragraphs in the document. (A new paragraph begins whenever the user presses ENTER or RETURN while typing in a Word document.) Each of these Paragraph objects contains a list of one or more Run objects. <br>\n",
    "The text in a Word document is more than just a string. It has font, size, color, and other styling information associated with it. A style in Word is a collection of these attributes. A Run object is a contiguous run of text with the same style. A new Run object is needed whenever the text style changes."
   ]
  },
  {
   "cell_type": "markdown",
   "id": "8e440de3",
   "metadata": {},
   "source": [
    "### 7. How do you obtain a list of Paragraph objects for a Document object that's stored in a variable named doc?"
   ]
  },
  {
   "cell_type": "code",
   "execution_count": 10,
   "id": "a934ace8",
   "metadata": {},
   "outputs": [
    {
     "name": "stdout",
     "output_type": "stream",
     "text": [
      "[<docx.text.paragraph.Paragraph object at 0x0000021D13266580>]\n",
      "iNeuron Full Stack DataScience Course\n"
     ]
    }
   ],
   "source": [
    "# Example Program\n",
    "from docx import Document\n",
    "doc = Document(\"myDoc.docx\") # Path of the Docx file\n",
    "print(doc.paragraphs) # Prints the list of Paragraph objects for a Document\n",
    "for paragraph in doc.paragraphs:\n",
    "    print(paragraph.text) # Prints the text in the paragrap"
   ]
  },
  {
   "cell_type": "markdown",
   "id": "a8665989",
   "metadata": {},
   "source": [
    "### 8. What type of object has bold, underline, italic, strike, and outline variables?"
   ]
  },
  {
   "cell_type": "markdown",
   "id": "166380ea",
   "metadata": {},
   "source": [
    "<b>Ans - </b>Run object has bold, underline, italic, strike, and outline variables. The text in a Word document is more than just a string. It has font, size, color, and other styling information associated with it."
   ]
  },
  {
   "cell_type": "markdown",
   "id": "0b9125a7",
   "metadata": {},
   "source": [
    "### 9. What is the difference between False, True, and None for the bold variable?"
   ]
  },
  {
   "cell_type": "code",
   "execution_count": null,
   "id": "cb1a5597",
   "metadata": {},
   "outputs": [],
   "source": [
    "bold = True  # Style Set to Bold\n",
    "bold = False # Style Not Set to Bold\n",
    "bold = None # Style is Not Applicable"
   ]
  },
  {
   "cell_type": "markdown",
   "id": "207b783e",
   "metadata": {},
   "source": [
    "### 10. How do you create a Document object for a new Word document?"
   ]
  },
  {
   "cell_type": "code",
   "execution_count": 8,
   "id": "a888f4f0",
   "metadata": {},
   "outputs": [],
   "source": [
    "from docx import Document\n",
    "document = Document()\n",
    "document.add_paragraph(\"iNeuron Full Stack DataScience Course\")\n",
    "document.save('myDoc.docx')"
   ]
  },
  {
   "cell_type": "markdown",
   "id": "4f68396a",
   "metadata": {},
   "source": [
    "### 11. How do you add a paragraph with the text 'Hello, there!' to a Document object stored in a variable named doc?"
   ]
  },
  {
   "cell_type": "code",
   "execution_count": 12,
   "id": "a5891682",
   "metadata": {},
   "outputs": [],
   "source": [
    "from docx import Document\n",
    "doc = Document()\n",
    "doc.add_paragraph('Hello, there!')\n",
    "doc.save('Hello.docx')"
   ]
  },
  {
   "cell_type": "markdown",
   "id": "3c537be8",
   "metadata": {},
   "source": [
    "### 12. What integers represent the levels of headings available in Word documents?"
   ]
  },
  {
   "cell_type": "markdown",
   "id": "afb8d10d",
   "metadata": {},
   "source": [
    "<b>Ans - </b>The levels for a heading in a word document can be specified by using the level attribute inside the add_heading method. There are a total of 5 levels statring for 0 to 4. where level 0 makes a headline with the horizontal line below the text, whereas the heading level 1 is the main heading. Similarly, the other headings are sub-heading with their's font-sizes in decreasing order."
   ]
  },
  {
   "cell_type": "code",
   "execution_count": null,
   "id": "6eb908b7",
   "metadata": {},
   "outputs": [],
   "source": []
  }
 ],
 "metadata": {
  "kernelspec": {
   "display_name": "Python 3 (ipykernel)",
   "language": "python",
   "name": "python3"
  },
  "language_info": {
   "codemirror_mode": {
    "name": "ipython",
    "version": 3
   },
   "file_extension": ".py",
   "mimetype": "text/x-python",
   "name": "python",
   "nbconvert_exporter": "python",
   "pygments_lexer": "ipython3",
   "version": "3.8.2"
  }
 },
 "nbformat": 4,
 "nbformat_minor": 5
}
